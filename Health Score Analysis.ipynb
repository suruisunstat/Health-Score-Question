{
 "cells": [
  {
   "cell_type": "code",
   "execution_count": 6,
   "metadata": {
    "collapsed": true
   },
   "outputs": [],
   "source": [
    "import pandas as pd\n",
    "from pandas import DataFrame, Series\n",
    "import numpy as np"
   ]
  },
  {
   "cell_type": "code",
   "execution_count": 22,
   "metadata": {
    "collapsed": true
   },
   "outputs": [],
   "source": [
    "insurance = pd.read_csv(\"/Users/suruisun/Downloads/insurance.csv\") # read the data"
   ]
  },
  {
   "cell_type": "code",
   "execution_count": 4,
   "metadata": {
    "collapsed": false
   },
   "outputs": [
    {
     "data": {
      "text/plain": [
       "(19103, 9)"
      ]
     },
     "execution_count": 4,
     "metadata": {},
     "output_type": "execute_result"
    }
   ],
   "source": [
    "insurance.shape"
   ]
  },
  {
   "cell_type": "code",
   "execution_count": 8,
   "metadata": {
    "collapsed": false
   },
   "outputs": [
    {
     "data": {
      "text/plain": [
       "Index([u'Observation Number', u'Quarter', u'Employee Id', u'Sex (Male=1)',\n",
       "       u'Race', u'Age', u'Hospital Visit This Quarter (1=Yes)', u'Salary',\n",
       "       u'Health Score'],\n",
       "      dtype='object')"
      ]
     },
     "execution_count": 8,
     "metadata": {},
     "output_type": "execute_result"
    }
   ],
   "source": [
    "insurance.columns"
   ]
  },
  {
   "cell_type": "code",
   "execution_count": 77,
   "metadata": {
    "collapsed": false
   },
   "outputs": [],
   "source": [
    "insurance = insurance.rename(columns={\"Observation Number\":\"Obser_num\",\"Employee Id\":\"Eid\",\"Sex (Male=1)\":\"Sex\",\n",
    "                  \"Hospital Visit This Quarter (1=Yes)\":\"Visit\",\"Health Score\":\"H_score\"}) # change the column names"
   ]
  },
  {
   "cell_type": "code",
   "execution_count": 78,
   "metadata": {
    "collapsed": false
   },
   "outputs": [
    {
     "data": {
      "text/html": [
       "<div>\n",
       "<table border=\"1\" class=\"dataframe\">\n",
       "  <thead>\n",
       "    <tr style=\"text-align: right;\">\n",
       "      <th></th>\n",
       "      <th>Obser_num</th>\n",
       "      <th>Quarter</th>\n",
       "      <th>Eid</th>\n",
       "      <th>Sex</th>\n",
       "      <th>Race</th>\n",
       "      <th>Age</th>\n",
       "      <th>Visit</th>\n",
       "      <th>Salary</th>\n",
       "      <th>H_score</th>\n",
       "    </tr>\n",
       "  </thead>\n",
       "  <tbody>\n",
       "    <tr>\n",
       "      <th>0</th>\n",
       "      <td>1</td>\n",
       "      <td>1</td>\n",
       "      <td>1</td>\n",
       "      <td>0</td>\n",
       "      <td>3</td>\n",
       "      <td>27</td>\n",
       "      <td>0</td>\n",
       "      <td>36906.57</td>\n",
       "      <td>3.7</td>\n",
       "    </tr>\n",
       "    <tr>\n",
       "      <th>1</th>\n",
       "      <td>2</td>\n",
       "      <td>2</td>\n",
       "      <td>1</td>\n",
       "      <td>0</td>\n",
       "      <td>3</td>\n",
       "      <td>28</td>\n",
       "      <td>0</td>\n",
       "      <td>37906.57</td>\n",
       "      <td>5.0</td>\n",
       "    </tr>\n",
       "    <tr>\n",
       "      <th>2</th>\n",
       "      <td>3</td>\n",
       "      <td>3</td>\n",
       "      <td>1</td>\n",
       "      <td>0</td>\n",
       "      <td>3</td>\n",
       "      <td>28</td>\n",
       "      <td>0</td>\n",
       "      <td>38906.57</td>\n",
       "      <td>4.0</td>\n",
       "    </tr>\n",
       "    <tr>\n",
       "      <th>3</th>\n",
       "      <td>4</td>\n",
       "      <td>4</td>\n",
       "      <td>1</td>\n",
       "      <td>0</td>\n",
       "      <td>3</td>\n",
       "      <td>28</td>\n",
       "      <td>0</td>\n",
       "      <td>39906.57</td>\n",
       "      <td>2.3</td>\n",
       "    </tr>\n",
       "    <tr>\n",
       "      <th>4</th>\n",
       "      <td>5</td>\n",
       "      <td>5</td>\n",
       "      <td>1</td>\n",
       "      <td>0</td>\n",
       "      <td>3</td>\n",
       "      <td>29</td>\n",
       "      <td>0</td>\n",
       "      <td>40906.57</td>\n",
       "      <td>2.1</td>\n",
       "    </tr>\n",
       "  </tbody>\n",
       "</table>\n",
       "</div>"
      ],
      "text/plain": [
       "   Obser_num  Quarter  Eid  Sex  Race  Age  Visit    Salary  H_score\n",
       "0          1        1    1    0     3   27      0  36906.57      3.7\n",
       "1          2        2    1    0     3   28      0  37906.57      5.0\n",
       "2          3        3    1    0     3   28      0  38906.57      4.0\n",
       "3          4        4    1    0     3   28      0  39906.57      2.3\n",
       "4          5        5    1    0     3   29      0  40906.57      2.1"
      ]
     },
     "execution_count": 78,
     "metadata": {},
     "output_type": "execute_result"
    }
   ],
   "source": [
    "insurance.head() # first 5 rows"
   ]
  },
  {
   "cell_type": "code",
   "execution_count": 79,
   "metadata": {
    "collapsed": true
   },
   "outputs": [],
   "source": [
    "import matplotlib\n",
    "import matplotlib.pyplot as plt\n",
    "%matplotlib inline\n",
    "import seaborn as sns"
   ]
  },
  {
   "cell_type": "markdown",
   "metadata": {},
   "source": [
    "# Q1a Are all the values in the data reasonable? Are there missing values?"
   ]
  },
  {
   "cell_type": "code",
   "execution_count": 179,
   "metadata": {
    "collapsed": false
   },
   "outputs": [
    {
     "data": {
      "text/html": [
       "<div>\n",
       "<table border=\"1\" class=\"dataframe\">\n",
       "  <thead>\n",
       "    <tr style=\"text-align: right;\">\n",
       "      <th></th>\n",
       "      <th>Obser_num</th>\n",
       "      <th>Quarter</th>\n",
       "      <th>Eid</th>\n",
       "      <th>Sex</th>\n",
       "      <th>Race</th>\n",
       "      <th>Age</th>\n",
       "      <th>Visit</th>\n",
       "      <th>Salary</th>\n",
       "      <th>H_score</th>\n",
       "    </tr>\n",
       "  </thead>\n",
       "  <tbody>\n",
       "    <tr>\n",
       "      <th>count</th>\n",
       "      <td>19103.000000</td>\n",
       "      <td>19103.000000</td>\n",
       "      <td>19103.000000</td>\n",
       "      <td>19032.000000</td>\n",
       "      <td>16980.000000</td>\n",
       "      <td>19103.000000</td>\n",
       "      <td>19103.000000</td>\n",
       "      <td>19103.000000</td>\n",
       "      <td>19103.000000</td>\n",
       "    </tr>\n",
       "    <tr>\n",
       "      <th>mean</th>\n",
       "      <td>9552.000000</td>\n",
       "      <td>7.342826</td>\n",
       "      <td>998.012249</td>\n",
       "      <td>0.506305</td>\n",
       "      <td>1.597055</td>\n",
       "      <td>30.592263</td>\n",
       "      <td>0.111448</td>\n",
       "      <td>48297.597961</td>\n",
       "      <td>3.588379</td>\n",
       "    </tr>\n",
       "    <tr>\n",
       "      <th>std</th>\n",
       "      <td>5514.705432</td>\n",
       "      <td>3.166792</td>\n",
       "      <td>577.313902</td>\n",
       "      <td>0.499973</td>\n",
       "      <td>0.739656</td>\n",
       "      <td>7.018862</td>\n",
       "      <td>0.314695</td>\n",
       "      <td>5351.302344</td>\n",
       "      <td>1.985285</td>\n",
       "    </tr>\n",
       "    <tr>\n",
       "      <th>min</th>\n",
       "      <td>1.000000</td>\n",
       "      <td>1.000000</td>\n",
       "      <td>1.000000</td>\n",
       "      <td>0.000000</td>\n",
       "      <td>1.000000</td>\n",
       "      <td>7.000000</td>\n",
       "      <td>0.000000</td>\n",
       "      <td>28350.700000</td>\n",
       "      <td>0.600000</td>\n",
       "    </tr>\n",
       "    <tr>\n",
       "      <th>25%</th>\n",
       "      <td>4776.500000</td>\n",
       "      <td>5.000000</td>\n",
       "      <td>498.000000</td>\n",
       "      <td>0.000000</td>\n",
       "      <td>1.000000</td>\n",
       "      <td>26.000000</td>\n",
       "      <td>0.000000</td>\n",
       "      <td>44550.710000</td>\n",
       "      <td>2.400000</td>\n",
       "    </tr>\n",
       "    <tr>\n",
       "      <th>50%</th>\n",
       "      <td>9552.000000</td>\n",
       "      <td>8.000000</td>\n",
       "      <td>996.000000</td>\n",
       "      <td>1.000000</td>\n",
       "      <td>1.000000</td>\n",
       "      <td>29.000000</td>\n",
       "      <td>0.000000</td>\n",
       "      <td>48196.080000</td>\n",
       "      <td>3.100000</td>\n",
       "    </tr>\n",
       "    <tr>\n",
       "      <th>75%</th>\n",
       "      <td>14327.500000</td>\n",
       "      <td>10.000000</td>\n",
       "      <td>1498.000000</td>\n",
       "      <td>1.000000</td>\n",
       "      <td>2.000000</td>\n",
       "      <td>32.000000</td>\n",
       "      <td>0.000000</td>\n",
       "      <td>51958.410000</td>\n",
       "      <td>4.100000</td>\n",
       "    </tr>\n",
       "    <tr>\n",
       "      <th>max</th>\n",
       "      <td>19103.000000</td>\n",
       "      <td>12.000000</td>\n",
       "      <td>2000.000000</td>\n",
       "      <td>1.000000</td>\n",
       "      <td>3.000000</td>\n",
       "      <td>172.000000</td>\n",
       "      <td>1.000000</td>\n",
       "      <td>68826.340000</td>\n",
       "      <td>10.000000</td>\n",
       "    </tr>\n",
       "  </tbody>\n",
       "</table>\n",
       "</div>"
      ],
      "text/plain": [
       "          Obser_num       Quarter           Eid           Sex          Race  \\\n",
       "count  19103.000000  19103.000000  19103.000000  19032.000000  16980.000000   \n",
       "mean    9552.000000      7.342826    998.012249      0.506305      1.597055   \n",
       "std     5514.705432      3.166792    577.313902      0.499973      0.739656   \n",
       "min        1.000000      1.000000      1.000000      0.000000      1.000000   \n",
       "25%     4776.500000      5.000000    498.000000      0.000000      1.000000   \n",
       "50%     9552.000000      8.000000    996.000000      1.000000      1.000000   \n",
       "75%    14327.500000     10.000000   1498.000000      1.000000      2.000000   \n",
       "max    19103.000000     12.000000   2000.000000      1.000000      3.000000   \n",
       "\n",
       "                Age         Visit        Salary       H_score  \n",
       "count  19103.000000  19103.000000  19103.000000  19103.000000  \n",
       "mean      30.592263      0.111448  48297.597961      3.588379  \n",
       "std        7.018862      0.314695   5351.302344      1.985285  \n",
       "min        7.000000      0.000000  28350.700000      0.600000  \n",
       "25%       26.000000      0.000000  44550.710000      2.400000  \n",
       "50%       29.000000      0.000000  48196.080000      3.100000  \n",
       "75%       32.000000      0.000000  51958.410000      4.100000  \n",
       "max      172.000000      1.000000  68826.340000     10.000000  "
      ]
     },
     "execution_count": 179,
     "metadata": {},
     "output_type": "execute_result"
    }
   ],
   "source": [
    "insurance.describe()"
   ]
  },
  {
   "cell_type": "markdown",
   "metadata": {},
   "source": [
    "Clearly we can see that the max age is 172, which does not make sense, and the max number for health score(H_score) is 10, which is obviously wrong."
   ]
  },
  {
   "cell_type": "code",
   "execution_count": 103,
   "metadata": {
    "collapsed": false
   },
   "outputs": [
    {
     "data": {
      "text/plain": [
       "<matplotlib.text.Annotation at 0x10f4ccb10>"
      ]
     },
     "execution_count": 103,
     "metadata": {},
     "output_type": "execute_result"
    },
    {
     "data": {
      "image/png": "[encoded data removed]",
      "text/plain": [
       "<matplotlib.figure.Figure at 0x10f6044d0>"
      ]
     },
     "metadata": {},
     "output_type": "display_data"
    }
   ],
   "source": [
    "insurance.H_score.hist()    \n",
    "plt.annotate('Wrong Health Score', xy=(10, 1500), xytext=(12, 2000),\n",
    "            arrowprops=dict(facecolor='black', shrink=0.05),\n",
    "            )"
   ]
  },
  {
   "cell_type": "markdown",
   "metadata": {},
   "source": [
    "From the plot for health score, we can find that there are wrong values which are greater than 6"
   ]
  },
  {
   "cell_type": "code",
   "execution_count": 82,
   "metadata": {
    "collapsed": false
   },
   "outputs": [],
   "source": [
    "wrong_hscore = insurance[insurance['H_score']>6]"
   ]
  },
  {
   "cell_type": "code",
   "execution_count": 88,
   "metadata": {
    "collapsed": false
   },
   "outputs": [
    {
     "name": "stdout",
     "output_type": "stream",
     "text": [
      "(1238, 9)\n",
      "1238\n"
     ]
    }
   ],
   "source": [
    "print wrong_hscore.shape\n",
    "print wrong_hscore[wrong_hscore['H_score']==10].shape[0]"
   ]
  },
  {
   "cell_type": "markdown",
   "metadata": {},
   "source": [
    "The data is not reasonable, since there are 1238 rows in which health score is great than 6(which are actually 10)."
   ]
  },
  {
   "cell_type": "code",
   "execution_count": 183,
   "metadata": {
    "collapsed": false
   },
   "outputs": [
    {
     "data": {
      "text/html": [
       "<div>\n",
       "<table border=\"1\" class=\"dataframe\">\n",
       "  <thead>\n",
       "    <tr style=\"text-align: right;\">\n",
       "      <th></th>\n",
       "      <th>Obser_num</th>\n",
       "      <th>Quarter</th>\n",
       "      <th>Eid</th>\n",
       "      <th>Sex</th>\n",
       "      <th>Race</th>\n",
       "      <th>Age</th>\n",
       "      <th>Visit</th>\n",
       "      <th>Salary</th>\n",
       "      <th>H_score</th>\n",
       "    </tr>\n",
       "  </thead>\n",
       "  <tbody>\n",
       "    <tr>\n",
       "      <th>2756</th>\n",
       "      <td>2757</td>\n",
       "      <td>12</td>\n",
       "      <td>287</td>\n",
       "      <td>0</td>\n",
       "      <td>3</td>\n",
       "      <td>172</td>\n",
       "      <td>0</td>\n",
       "      <td>45489.83</td>\n",
       "      <td>4.4</td>\n",
       "    </tr>\n",
       "    <tr>\n",
       "      <th>2752</th>\n",
       "      <td>2753</td>\n",
       "      <td>8</td>\n",
       "      <td>287</td>\n",
       "      <td>0</td>\n",
       "      <td>3</td>\n",
       "      <td>171</td>\n",
       "      <td>0</td>\n",
       "      <td>41489.83</td>\n",
       "      <td>5.1</td>\n",
       "    </tr>\n",
       "    <tr>\n",
       "      <th>2754</th>\n",
       "      <td>2755</td>\n",
       "      <td>10</td>\n",
       "      <td>287</td>\n",
       "      <td>0</td>\n",
       "      <td>3</td>\n",
       "      <td>171</td>\n",
       "      <td>0</td>\n",
       "      <td>43489.83</td>\n",
       "      <td>1.6</td>\n",
       "    </tr>\n",
       "    <tr>\n",
       "      <th>2755</th>\n",
       "      <td>2756</td>\n",
       "      <td>11</td>\n",
       "      <td>287</td>\n",
       "      <td>0</td>\n",
       "      <td>3</td>\n",
       "      <td>171</td>\n",
       "      <td>0</td>\n",
       "      <td>44489.83</td>\n",
       "      <td>3.2</td>\n",
       "    </tr>\n",
       "    <tr>\n",
       "      <th>2753</th>\n",
       "      <td>2754</td>\n",
       "      <td>9</td>\n",
       "      <td>287</td>\n",
       "      <td>0</td>\n",
       "      <td>3</td>\n",
       "      <td>171</td>\n",
       "      <td>0</td>\n",
       "      <td>42489.83</td>\n",
       "      <td>2.3</td>\n",
       "    </tr>\n",
       "    <tr>\n",
       "      <th>2749</th>\n",
       "      <td>2750</td>\n",
       "      <td>5</td>\n",
       "      <td>287</td>\n",
       "      <td>0</td>\n",
       "      <td>3</td>\n",
       "      <td>170</td>\n",
       "      <td>0</td>\n",
       "      <td>38489.83</td>\n",
       "      <td>5.5</td>\n",
       "    </tr>\n",
       "    <tr>\n",
       "      <th>2750</th>\n",
       "      <td>2751</td>\n",
       "      <td>6</td>\n",
       "      <td>287</td>\n",
       "      <td>0</td>\n",
       "      <td>3</td>\n",
       "      <td>170</td>\n",
       "      <td>0</td>\n",
       "      <td>39489.83</td>\n",
       "      <td>10.0</td>\n",
       "    </tr>\n",
       "    <tr>\n",
       "      <th>2751</th>\n",
       "      <td>2752</td>\n",
       "      <td>7</td>\n",
       "      <td>287</td>\n",
       "      <td>0</td>\n",
       "      <td>3</td>\n",
       "      <td>170</td>\n",
       "      <td>0</td>\n",
       "      <td>40489.83</td>\n",
       "      <td>1.8</td>\n",
       "    </tr>\n",
       "    <tr>\n",
       "      <th>2628</th>\n",
       "      <td>2629</td>\n",
       "      <td>12</td>\n",
       "      <td>273</td>\n",
       "      <td>0</td>\n",
       "      <td>1</td>\n",
       "      <td>72</td>\n",
       "      <td>0</td>\n",
       "      <td>48770.55</td>\n",
       "      <td>2.0</td>\n",
       "    </tr>\n",
       "    <tr>\n",
       "      <th>2626</th>\n",
       "      <td>2627</td>\n",
       "      <td>10</td>\n",
       "      <td>273</td>\n",
       "      <td>0</td>\n",
       "      <td>1</td>\n",
       "      <td>71</td>\n",
       "      <td>1</td>\n",
       "      <td>46770.55</td>\n",
       "      <td>2.5</td>\n",
       "    </tr>\n",
       "  </tbody>\n",
       "</table>\n",
       "</div>"
      ],
      "text/plain": [
       "      Obser_num  Quarter  Eid  Sex  Race  Age  Visit    Salary  H_score\n",
       "2756       2757       12  287    0     3  172      0  45489.83      4.4\n",
       "2752       2753        8  287    0     3  171      0  41489.83      5.1\n",
       "2754       2755       10  287    0     3  171      0  43489.83      1.6\n",
       "2755       2756       11  287    0     3  171      0  44489.83      3.2\n",
       "2753       2754        9  287    0     3  171      0  42489.83      2.3\n",
       "2749       2750        5  287    0     3  170      0  38489.83      5.5\n",
       "2750       2751        6  287    0     3  170      0  39489.83     10.0\n",
       "2751       2752        7  287    0     3  170      0  40489.83      1.8\n",
       "2628       2629       12  273    0     1   72      0  48770.55      2.0\n",
       "2626       2627       10  273    0     1   71      1  46770.55      2.5"
      ]
     },
     "execution_count": 183,
     "metadata": {},
     "output_type": "execute_result"
    }
   ],
   "source": [
    "insurance.sort_values('Age',ascending=False).head(10)"
   ]
  },
  {
   "cell_type": "markdown",
   "metadata": {},
   "source": [
    "Clearly we can see that several ages are 170,171,172, which does not make sense."
   ]
  },
  {
   "cell_type": "code",
   "execution_count": 114,
   "metadata": {
    "collapsed": false
   },
   "outputs": [
    {
     "data": {
      "text/plain": [
       "<matplotlib.axes._subplots.AxesSubplot at 0x1135abd10>"
      ]
     },
     "execution_count": 114,
     "metadata": {},
     "output_type": "execute_result"
    },
    {
     "data": {
      "image/png": "[encoded data removed]",
      "text/plain": [
       "<matplotlib.figure.Figure at 0x112b4d810>"
      ]
     },
     "metadata": {},
     "output_type": "display_data"
    }
   ],
   "source": [
    "plt.figure(figsize=(10,10))\n",
    "plt.subplot(3,2,1)\n",
    "insurance.Quarter.hist()\n",
    "plt.title(\"Quater Distribution\")\n",
    "plt.subplot(3,2,2)\n",
    "plt.title(\"Sex Distribution\")\n",
    "insurance.Sex.hist()\n",
    "plt.subplot(3,2,3)\n",
    "plt.title(\"Race Distribution\")\n",
    "insurance.Race.hist()\n",
    "plt.subplot(3,2,4)\n",
    "plt.title(\"Age Distribution\")\n",
    "insurance.Age.hist()\n",
    "plt.subplot(3,2,5)\n",
    "plt.title(\"Visit Distribution\")\n",
    "insurance.Visit.hist()\n",
    "plt.subplot(3,2,6)\n",
    "plt.title(\"Salary Distribution\")\n",
    "insurance.Salary.hist()"
   ]
  },
  {
   "cell_type": "markdown",
   "metadata": {},
   "source": [
    "We don't seem to find problems with other numeric variables, including categorical variables through histgram."
   ]
  },
  {
   "cell_type": "code",
   "execution_count": null,
   "metadata": {
    "collapsed": false
   },
   "outputs": [],
   "source": [
    "non_missing = insurance.dropna(axis=0,how=\"any\")"
   ]
  },
  {
   "cell_type": "code",
   "execution_count": 134,
   "metadata": {
    "collapsed": false
   },
   "outputs": [
    {
     "name": "stdout",
     "output_type": "stream",
     "text": [
      "In the original insurance dataset, there are: 19103 rows\n",
      "After dropping missing values, there are: 16927 rows\n",
      "The number of rows that contain missing values are: 2176\n",
      "The percent of rows with missing value: 0\n"
     ]
    }
   ],
   "source": [
    "print \"In the original insurance dataset, there are: %s rows\" %str(insurance.shape[0])\n",
    "print \"After dropping missing values, there are: %s rows\" % str(non_missing.shape[0])\n",
    "print \"The number of rows that contain missing values are: %d\" %(insurance.shape[0]-non_missing.shape[0])"
   ]
  },
  {
   "cell_type": "code",
   "execution_count": 138,
   "metadata": {
    "collapsed": false
   },
   "outputs": [
    {
     "name": "stdout",
     "output_type": "stream",
     "text": [
      "The percent of rows with missing value: 0.11\n"
     ]
    }
   ],
   "source": [
    "print \"The percent of rows with missing value: %.2f\" %(2176/19103.0)"
   ]
  },
  {
   "cell_type": "markdown",
   "metadata": {},
   "source": [
    "Therefore we have 2176 rows(11%) with missing value in the dataset."
   ]
  },
  {
   "cell_type": "markdown",
   "metadata": {},
   "source": [
    "# Q1b What are the characteristics of employees at Company A? Do these demographics change over time?"
   ]
  },
  {
   "cell_type": "code",
   "execution_count": 144,
   "metadata": {
    "collapsed": false
   },
   "outputs": [],
   "source": [
    "employee_info = insurance.groupby('Eid').mean()[['Sex','Race','Age']]"
   ]
  },
  {
   "cell_type": "code",
   "execution_count": 152,
   "metadata": {
    "collapsed": false
   },
   "outputs": [
    {
     "name": "stdout",
     "output_type": "stream",
     "text": [
      "966\n",
      "989\n",
      "1962\n"
     ]
    }
   ],
   "source": [
    "print employee_info[employee_info['Sex']==0].shape[0] # Sex= 0 means female\n",
    "print employee_info[employee_info['Sex']==1].shape[0]\n",
    "print employee_info.shape[0]"
   ]
  },
  {
   "cell_type": "code",
   "execution_count": 157,
   "metadata": {
    "collapsed": false
   },
   "outputs": [
    {
     "name": "stdout",
     "output_type": "stream",
     "text": [
      "the proportion of female is: 0.49\n",
      "the proportion of male is: 0.50\n",
      "And the remaining are people whose sex information are not provided\n"
     ]
    }
   ],
   "source": [
    "print \"the proportion of female is: %.2f\" %(966/1962.0)\n",
    "print \"the proportion of male is: %.2f\" %(989/1962.0)\n",
    "print \"And the remaining are people whose sex information are not provided\""
   ]
  },
  {
   "cell_type": "code",
   "execution_count": 158,
   "metadata": {
    "collapsed": false
   },
   "outputs": [
    {
     "name": "stdout",
     "output_type": "stream",
     "text": [
      "969\n",
      "507\n",
      "266\n",
      "1962\n"
     ]
    }
   ],
   "source": [
    "print employee_info[employee_info['Race']==1].shape[0] # Sex= 0 means female\n",
    "print employee_info[employee_info['Race']==2].shape[0]\n",
    "print employee_info[employee_info['Race']==3].shape[0]\n",
    "print employee_info.shape[0]"
   ]
  },
  {
   "cell_type": "code",
   "execution_count": 159,
   "metadata": {
    "collapsed": false
   },
   "outputs": [
    {
     "name": "stdout",
     "output_type": "stream",
     "text": [
      "the proportion of race equalling 1 is: 0.49\n",
      "the proportion of race equalling 2 is: 0.26\n",
      "the proportion of race equalling 3 is: 0.14\n",
      "And the remaining are people whose race information are not provided\n"
     ]
    }
   ],
   "source": [
    "print \"the proportion of race equalling 1 is: %.2f\" %(969/1962.0)\n",
    "print \"the proportion of race equalling 2 is: %.2f\" %(507/1962.0)\n",
    "print \"the proportion of race equalling 3 is: %.2f\" %(266/1962.0)\n",
    "print \"And the remaining are people whose race information are not provided\""
   ]
  },
  {
   "cell_type": "code",
   "execution_count": 198,
   "metadata": {
    "collapsed": false
   },
   "outputs": [
    {
     "data": {
      "text/plain": [
       "<matplotlib.axes._subplots.AxesSubplot at 0x1148ac090>"
      ]
     },
     "execution_count": 198,
     "metadata": {},
     "output_type": "execute_result"
    },
    {
     "data": {
      "image/png": "[encoded data removed]",
      "text/plain": [
       "<matplotlib.figure.Figure at 0x114da1790>"
      ]
     },
     "metadata": {},
     "output_type": "display_data"
    }
   ],
   "source": [
    "plt.xlim(0,80)\n",
    "insurance.Age.hist(bins=50)"
   ]
  },
  {
   "cell_type": "markdown",
   "metadata": {},
   "source": [
    "According to the plot, the age of most employees are between 20 and 30. And we have some outliers, such as the age equalling to 170 or 7, which is far too big or too small."
   ]
  },
  {
   "cell_type": "markdown",
   "metadata": {},
   "source": [
    "Sex and Race do not change over time, but obviously Age changes over time."
   ]
  },
  {
   "cell_type": "markdown",
   "metadata": {},
   "source": [
    "# Q2a Which characteristics are associated with the health score? "
   ]
  },
  {
   "cell_type": "code",
   "execution_count": 205,
   "metadata": {
    "collapsed": false
   },
   "outputs": [],
   "source": [
    "from scipy.stats.stats import pearsonr"
   ]
  },
  {
   "cell_type": "code",
   "execution_count": 209,
   "metadata": {
    "collapsed": false
   },
   "outputs": [
    {
     "name": "stdout",
     "output_type": "stream",
     "text": [
      "(0.15779493637005909, 9.5415849776381316e-107)\n",
      "(0.059235910866794188, 2.5296212881794803e-16)\n"
     ]
    }
   ],
   "source": [
    "print pearsonr(insurance.Age,insurance.H_score)\n",
    "print pearsonr(insurance.Salary,insurance.H_score)"
   ]
  },
  {
   "cell_type": "code",
   "execution_count": 210,
   "metadata": {
    "collapsed": false
   },
   "outputs": [
    {
     "data": {
      "text/plain": [
       "<matplotlib.collections.PathCollection at 0x1166e5bd0>"
      ]
     },
     "execution_count": 210,
     "metadata": {},
     "output_type": "execute_result"
    },
    {
     "data": {
      "image/png": "[encoded data removed]",
      "text/plain": [
       "<matplotlib.figure.Figure at 0x1164a21d0>"
      ]
     },
     "metadata": {},
     "output_type": "display_data"
    }
   ],
   "source": [
    "plt.scatter('Age','H_score',data=insurance)"
   ]
  },
  {
   "cell_type": "markdown",
   "metadata": {},
   "source": [
    "Clearly outliers have much influence on our analysis, we have to get rid of them."
   ]
  },
  {
   "cell_type": "code",
   "execution_count": 220,
   "metadata": {
    "collapsed": false
   },
   "outputs": [],
   "source": [
    "#insurance[(insurance.Age) < 100 && (insurance.H_score <=6)]\n",
    "clean_insurance = insurance.query('Age<100').query('H_score<=6').query('Age>=16').query('Age>10')"
   ]
  },
  {
   "cell_type": "code",
   "execution_count": 221,
   "metadata": {
    "collapsed": false
   },
   "outputs": [
    {
     "name": "stdout",
     "output_type": "stream",
     "text": [
      "(17851, 9)\n",
      "(19103, 9)\n"
     ]
    }
   ],
   "source": [
    "print clean_insurance.shape\n",
    "print insurance.shape"
   ]
  },
  {
   "cell_type": "code",
   "execution_count": 222,
   "metadata": {
    "collapsed": false
   },
   "outputs": [
    {
     "data": {
      "text/plain": [
       "<matplotlib.collections.PathCollection at 0x1178d6e90>"
      ]
     },
     "execution_count": 222,
     "metadata": {},
     "output_type": "execute_result"
    },
    {
     "data": {
      "image/png": "[encoded data removed]",
      "text/plain": [
       "<matplotlib.figure.Figure at 0x117996350>"
      ]
     },
     "metadata": {},
     "output_type": "display_data"
    }
   ],
   "source": [
    "plt.scatter('Age','H_score',data=clean_insurance)"
   ]
  },
  {
   "cell_type": "markdown",
   "metadata": {},
   "source": [
    "There is a trend to have higher health score as age goes up. Pearson correlation coefficient is 0.158."
   ]
  },
  {
   "cell_type": "code",
   "execution_count": 223,
   "metadata": {
    "collapsed": false
   },
   "outputs": [
    {
     "data": {
      "text/plain": [
       "<matplotlib.collections.PathCollection at 0x1127b1310>"
      ]
     },
     "execution_count": 223,
     "metadata": {},
     "output_type": "execute_result"
    },
    {
     "data": {
      "image/png": "[encoded data removed]",
      "text/plain": [
       "<matplotlib.figure.Figure at 0x1178f2c50>"
      ]
     },
     "metadata": {},
     "output_type": "display_data"
    }
   ],
   "source": [
    "plt.scatter('Salary','H_score',data=clean_insurance)"
   ]
  },
  {
   "cell_type": "markdown",
   "metadata": {},
   "source": [
    "No obvious association between salary and health score."
   ]
  },
  {
   "cell_type": "code",
   "execution_count": 242,
   "metadata": {
    "collapsed": false
   },
   "outputs": [
    {
     "data": {
      "text/plain": [
       "count    8980.000000\n",
       "mean        3.291091\n",
       "std         1.049200\n",
       "min         0.900000\n",
       "25%         2.500000\n",
       "50%         3.200000\n",
       "75%         4.000000\n",
       "max         6.000000\n",
       "Name: H_score, dtype: float64"
      ]
     },
     "execution_count": 242,
     "metadata": {},
     "output_type": "execute_result"
    }
   ],
   "source": [
    "clean_insurance[clean_insurance['Sex']==1].H_score.describe() # summary statistics for male"
   ]
  },
  {
   "cell_type": "code",
   "execution_count": 243,
   "metadata": {
    "collapsed": false
   },
   "outputs": [
    {
     "data": {
      "text/plain": [
       "count    8871.000000\n",
       "mean        2.994893\n",
       "std         1.091488\n",
       "min         0.600000\n",
       "25%         2.100000\n",
       "50%         2.900000\n",
       "75%         3.700000\n",
       "max         6.000000\n",
       "Name: H_score, dtype: float64"
      ]
     },
     "execution_count": 243,
     "metadata": {},
     "output_type": "execute_result"
    }
   ],
   "source": [
    "clean_insurance[clean_insurance['Sex']==0].H_score.describe() # summary statistics for female"
   ]
  },
  {
   "cell_type": "markdown",
   "metadata": {},
   "source": [
    "From the above result, medium is 3.2 for male and 2.9 for female. We see female employees seem to have a better health condition (lower health score) comparing to male employees."
   ]
  },
  {
   "cell_type": "code",
   "execution_count": 245,
   "metadata": {
    "collapsed": false
   },
   "outputs": [
    {
     "data": {
      "text/plain": [
       "count    8794.000000\n",
       "mean        3.169320\n",
       "std         1.090498\n",
       "min         0.600000\n",
       "25%         2.300000\n",
       "50%         3.000000\n",
       "75%         3.900000\n",
       "max         6.000000\n",
       "Name: H_score, dtype: float64"
      ]
     },
     "execution_count": 245,
     "metadata": {},
     "output_type": "execute_result"
    }
   ],
   "source": [
    "clean_insurance[clean_insurance['Race']==1].H_score.describe()"
   ]
  },
  {
   "cell_type": "code",
   "execution_count": 246,
   "metadata": {
    "collapsed": false
   },
   "outputs": [
    {
     "data": {
      "text/plain": [
       "count    4644.00000\n",
       "mean        3.13947\n",
       "std         1.06489\n",
       "min         0.80000\n",
       "25%         2.30000\n",
       "50%         3.00000\n",
       "75%         3.90000\n",
       "max         6.00000\n",
       "Name: H_score, dtype: float64"
      ]
     },
     "execution_count": 246,
     "metadata": {},
     "output_type": "execute_result"
    }
   ],
   "source": [
    "clean_insurance[clean_insurance['Race']==2].H_score.describe()"
   ]
  },
  {
   "cell_type": "code",
   "execution_count": 247,
   "metadata": {
    "collapsed": false
   },
   "outputs": [
    {
     "data": {
      "text/plain": [
       "count    2440.000000\n",
       "mean        3.091066\n",
       "std         1.072682\n",
       "min         0.900000\n",
       "25%         2.300000\n",
       "50%         3.000000\n",
       "75%         3.800000\n",
       "max         6.000000\n",
       "Name: H_score, dtype: float64"
      ]
     },
     "execution_count": 247,
     "metadata": {},
     "output_type": "execute_result"
    }
   ],
   "source": [
    "clean_insurance[clean_insurance['Race']==3].H_score.describe()"
   ]
  },
  {
   "cell_type": "markdown",
   "metadata": {},
   "source": [
    "There are no significant difference on health score between different races."
   ]
  },
  {
   "cell_type": "code",
   "execution_count": 248,
   "metadata": {
    "collapsed": false
   },
   "outputs": [
    {
     "data": {
      "text/plain": [
       "count    15919.000000\n",
       "mean         3.070281\n",
       "std          1.071627\n",
       "min          0.600000\n",
       "25%          2.200000\n",
       "50%          2.900000\n",
       "75%          3.800000\n",
       "max          6.000000\n",
       "Name: H_score, dtype: float64"
      ]
     },
     "execution_count": 248,
     "metadata": {},
     "output_type": "execute_result"
    }
   ],
   "source": [
    "clean_insurance[clean_insurance['Visit']==0].H_score.describe()"
   ]
  },
  {
   "cell_type": "code",
   "execution_count": 249,
   "metadata": {
    "collapsed": false
   },
   "outputs": [
    {
     "data": {
      "text/plain": [
       "count    1932.000000\n",
       "mean        3.750466\n",
       "std         0.956303\n",
       "min         1.600000\n",
       "25%         3.000000\n",
       "50%         3.700000\n",
       "75%         4.400000\n",
       "max         6.000000\n",
       "Name: H_score, dtype: float64"
      ]
     },
     "execution_count": 249,
     "metadata": {},
     "output_type": "execute_result"
    }
   ],
   "source": [
    "clean_insurance[clean_insurance['Visit']==1].H_score.describe()"
   ]
  },
  {
   "cell_type": "markdown",
   "metadata": {},
   "source": [
    "For employees who visit the hospital, their health condition is worse, which is reasonable."
   ]
  },
  {
   "cell_type": "markdown",
   "metadata": {},
   "source": [
    "# Q3 Using the information from Questions 1 and 2, describe how you would evaluate InsurAHealth's claim that employees are getting sicker."
   ]
  },
  {
   "cell_type": "code",
   "execution_count": 272,
   "metadata": {
    "collapsed": false
   },
   "outputs": [],
   "source": [
    "group_quarter = clean_insurance.groupby('Quarter').mean()\n",
    "health_quarter = clean_insurance.groupby('Quarter').mean().H_score"
   ]
  },
  {
   "cell_type": "code",
   "execution_count": 277,
   "metadata": {
    "collapsed": false
   },
   "outputs": [
    {
     "data": {
      "text/plain": [
       "Quarter\n",
       "1     2.931447\n",
       "2     3.056938\n",
       "3     3.061869\n",
       "4     3.078325\n",
       "5     3.091423\n",
       "6     3.095663\n",
       "7     3.186644\n",
       "8     3.141430\n",
       "9     3.163361\n",
       "10    3.136807\n",
       "11    3.237329\n",
       "12    3.302279\n",
       "Name: H_score, dtype: float64"
      ]
     },
     "execution_count": 277,
     "metadata": {},
     "output_type": "execute_result"
    }
   ],
   "source": [
    "health_quarter"
   ]
  },
  {
   "cell_type": "code",
   "execution_count": 259,
   "metadata": {
    "collapsed": false
   },
   "outputs": [
    {
     "data": {
      "text/plain": [
       "<matplotlib.text.Text at 0x11967e710>"
      ]
     },
     "execution_count": 259,
     "metadata": {},
     "output_type": "execute_result"
    },
    {
     "data": {
      "image/png": "[encoded data removed]",
      "text/plain": [
       "<matplotlib.figure.Figure at 0x119724cd0>"
      ]
     },
     "metadata": {},
     "output_type": "display_data"
    }
   ],
   "source": [
    "health_quarter.plot(kind=\"line\")\n",
    "plt.ylabel(\"Health Score\")\n",
    "plt.title(\"Health Score in each Quarter\")"
   ]
  },
  {
   "cell_type": "code",
   "execution_count": 274,
   "metadata": {
    "collapsed": true
   },
   "outputs": [],
   "source": [
    "group_quarter['Quarter']=np.arange(12)+1"
   ]
  },
  {
   "cell_type": "code",
   "execution_count": 276,
   "metadata": {
    "collapsed": false
   },
   "outputs": [
    {
     "data": {
      "text/plain": [
       "<matplotlib.axes._subplots.AxesSubplot at 0x11a133c90>"
      ]
     },
     "execution_count": 276,
     "metadata": {},
     "output_type": "execute_result"
    },
    {
     "data": {
      "image/png": "[encoded data removed]",
      "text/plain": [
       "<matplotlib.figure.Figure at 0x11a26b850>"
      ]
     },
     "metadata": {},
     "output_type": "display_data"
    }
   ],
   "source": [
    "sns.regplot(data=group_quarter,y=\"H_score\",x=\"Quarter\") # draw regression line"
   ]
  },
  {
   "cell_type": "markdown",
   "metadata": {},
   "source": [
    "I agree with the claim that employees are getting sicker. First I remove the outliers in the dataset, then I drew a plot between quarter and average health score. Finally, I drew a regression line and it clearly shows that the health score is increasing with quarter, which means employees are getting weaker."
   ]
  },
  {
   "cell_type": "code",
   "execution_count": null,
   "metadata": {
    "collapsed": true
   },
   "outputs": [],
   "source": []
  }
 ],
 "metadata": {
  "kernelspec": {
   "display_name": "Python 2",
   "language": "python",
   "name": "python2"
  },
  "language_info": {
   "codemirror_mode": {
    "name": "ipython",
    "version": 2
   },
   "file_extension": ".py",
   "mimetype": "text/x-python",
   "name": "python",
   "nbconvert_exporter": "python",
   "pygments_lexer": "ipython2",
   "version": "2.7.12"
  }
 },
 "nbformat": 4,
 "nbformat_minor": 0
}
